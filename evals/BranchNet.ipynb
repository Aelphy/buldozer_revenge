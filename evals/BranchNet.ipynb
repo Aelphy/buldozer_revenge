{
 "cells": [
  {
   "cell_type": "code",
   "execution_count": 5,
   "metadata": {
    "collapsed": false,
    "deletable": true,
    "editable": true
   },
   "outputs": [],
   "source": [
    "import networkx as nx\n",
    "import lasagne\n",
    "\n",
    "from lasagne.layers import InputLayer, Conv2DLayer, MaxPool2DLayer, DenseLayer\n",
    "from lasagne.nonlinearities import elu, tanh, sigmoid, softmax"
   ]
  },
  {
   "cell_type": "code",
   "execution_count": 23,
   "metadata": {
    "collapsed": true
   },
   "outputs": [],
   "source": [
    "branches = nx.DiGraph()\n",
    "input_shape = [None, 1, 350, 500]"
   ]
  },
  {
   "cell_type": "code",
   "execution_count": 24,
   "metadata": {
    "collapsed": true
   },
   "outputs": [],
   "source": [
    "branches.add_node('root', attr_dict={'attributes' : {'layer' : InputLayer, 'options' : input_shape}})"
   ]
  },
  {
   "cell_type": "code",
   "execution_count": 25,
   "metadata": {
    "collapsed": true
   },
   "outputs": [],
   "source": [
    "branches.add_node('op1_1', attr_dict={'attributes' : {'layer' : Conv2DLayer, 'options' : {'num_filters' : 2,\n",
    "                                                                                          'filter_size' : 3,\n",
    "                                                                                          'mode' : 'same',\n",
    "                                                                                          'nonlinearity' : elu}}})\n",
    "branches.add_node('op1_2', attr_dict={'attributes' : {'layer' : Conv2DLayer, 'options' : {'num_filters' : 2,\n",
    "                                                                                          'filter_size' : 3,\n",
    "                                                                                          'mode' : 'same',\n",
    "                                                                                          'nonlinearity' : elu}}})\n",
    "branches.add_node('op1_3', attr_dict={'attributes' : {'layer' : Conv2DLayer, 'options' : {'num_filters' : 2,\n",
    "                                                                                          'filter_size' : 3,\n",
    "                                                                                          'mode' : 'same',\n",
    "                                                                                          'nonlinearity' : elu}}})\n",
    "\n",
    "branches.add_node('op2_1_1', attr_dict={'attributes' : {'layer' : Conv2DLayer, 'options' : {'num_filters' : 4,\n",
    "                                                                                          'filter_size' : 3,\n",
    "                                                                                          'mode' : 'same',\n",
    "                                                                                          'nonlinearity' : elu}}})\n",
    "branches.add_node('op2_1_2', attr_dict={'attributes' : {'layer' : Conv2DLayer, 'options' : {'num_filters' : 4,\n",
    "                                                                                          'filter_size' : 3,\n",
    "                                                                                          'mode' : 'same',\n",
    "                                                                                          'nonlinearity' : elu}}})\n",
    "branches.add_node('op2_1_3', attr_dict={'attributes' : {'layer' : Conv2DLayer, 'options' : {'num_filters' : 4,\n",
    "                                                                                          'filter_size' : 3,\n",
    "                                                                                          'mode' : 'same',\n",
    "                                                                                          'nonlinearity' : elu}}})\n",
    "\n",
    "branches.add_node('op2_2_1', attr_dict={'attributes' : {'layer' : Conv2DLayer, 'options' : {'num_filters' : 4,\n",
    "                                                                                          'filter_size' : 3,\n",
    "                                                                                          'mode' : 'same',\n",
    "                                                                                          'nonlinearity' : elu}}})\n",
    "branches.add_node('op2_2_2', attr_dict={'attributes' : {'layer' : Conv2DLayer, 'options' : {'num_filters' : 4,\n",
    "                                                                                          'filter_size' : 3,\n",
    "                                                                                          'mode' : 'same',\n",
    "                                                                                          'nonlinearity' : elu}}})\n",
    "branches.add_node('op2_2_3', attr_dict={'attributes' : {'layer' : Conv2DLayer, 'options' : {'num_filters' : 4,\n",
    "                                                                                          'filter_size' : 3,\n",
    "                                                                                          'mode' : 'same',\n",
    "                                                                                          'nonlinearity' : elu}}})\n",
    "\n",
    "branches.add_node('op2_3_1', attr_dict={'attributes' : {'layer' : Conv2DLayer, 'options' : {'num_filters' : 4,\n",
    "                                                                                          'filter_size' : 3,\n",
    "                                                                                          'mode' : 'same',\n",
    "                                                                                          'nonlinearity' : elu}}})\n",
    "branches.add_node('op2_3_2', attr_dict={'attributes' : {'layer' : Conv2DLayer, 'options' : {'num_filters' : 4,\n",
    "                                                                                          'filter_size' : 3,\n",
    "                                                                                          'mode' : 'same',\n",
    "                                                                                          'nonlinearity' : elu}}})\n",
    "branches.add_node('op2_3_3', attr_dict={'attributes' : {'layer' : Conv2DLayer, 'options' : {'num_filters' : 4,\n",
    "                                                                                          'filter_size' : 3,\n",
    "                                                                                          'mode' : 'same',\n",
    "                                                                                          'nonlinearity' : elu}}})\n",
    "\n",
    "branches.add_node('op3_1_1', attr_dict={'attributes' : {'layer' : Conv2DLayer, 'options' : {'num_filters' : 8,\n",
    "                                                                                          'filter_size' : 3,\n",
    "                                                                                          'mode' : 'same',\n",
    "                                                                                          'nonlinearity' : elu}}})\n",
    "branches.add_node('op3_2_1', attr_dict={'attributes' : {'layer' : Conv2DLayer, 'options' : {'num_filters' : 8,\n",
    "                                                                                          'filter_size' : 3,\n",
    "                                                                                          'mode' : 'same',\n",
    "                                                                                          'nonlinearity' : elu}}})\n",
    "branches.add_node('op3_3_1', attr_dict={'attributes' : {'layer' : Conv2DLayer, 'options' : {'num_filters' : 8,\n",
    "                                                                                          'filter_size' : 3,\n",
    "                                                                                          'mode' : 'same',\n",
    "                                                                                          'nonlinearity' : elu}}})\n",
    "branches.add_node('op4_1_1', attr_dict={'attributes' : {'layer' : Conv2DLayer, 'options' : {'num_filters' : 16,\n",
    "                                                                                          'filter_size' : 3,\n",
    "                                                                                          'mode' : 'same',\n",
    "                                                                                          'nonlinearity' : elu}}})\n",
    "branches.add_node('op4_2_1', attr_dict={'attributes' : {'layer' : Conv2DLayer, 'options' : {'num_filters' : 16,\n",
    "                                                                                          'filter_size' : 3,\n",
    "                                                                                          'mode' : 'same',\n",
    "                                                                                          'nonlinearity' : elu}}})\n",
    "branches.add_node('op4_3_1', attr_dict={'attributes' : {'layer' : Conv2DLayer, 'options' : {'num_filters' : 16,\n",
    "                                                                                          'filter_size' : 3,\n",
    "                                                                                          'mode' : 'same',\n",
    "                                                                                          'nonlinearity' : elu}}})"
   ]
  },
  {
   "cell_type": "code",
   "execution_count": 26,
   "metadata": {
    "collapsed": true
   },
   "outputs": [],
   "source": [
    "branches.add_edge('root' , 'op1_1')\n",
    "branches.add_edge('root' , 'op1_2')\n",
    "branches.add_edge('root' , 'op1_3')\n",
    "\n",
    "branches.add_edge('op1_1' , 'op2_1_1')\n",
    "branches.add_edge('op1_1' , 'op2_1_2')\n",
    "branches.add_edge('op1_1' , 'op2_1_3')\n",
    "\n",
    "branches.add_edge('op1_2' , 'op2_2_1')\n",
    "branches.add_edge('op1_2' , 'op2_2_2')\n",
    "branches.add_edge('op1_2' , 'op2_2_3')\n",
    "\n",
    "branches.add_edge('op1_3' , 'op2_3_1')\n",
    "branches.add_edge('op1_3' , 'op2_3_2')\n",
    "branches.add_edge('op1_3' , 'op2_3_3')\n",
    "\n",
    "branches.add_edge('op2_1_1' , 'op3_1_1')\n",
    "branches.add_edge('op2_2_1' , 'op3_2_1')\n",
    "branches.add_edge('op2_3_1' , 'op3_3_1')\n",
    "\n",
    "branches.add_edge('op3_1_1' , 'op4_1_1')\n",
    "branches.add_edge('op3_2_1' , 'op4_2_1')\n",
    "branches.add_edge('op3_3_1' , 'op4_3_1')"
   ]
  },
  {
   "cell_type": "code",
   "execution_count": 28,
   "metadata": {
    "collapsed": false
   },
   "outputs": [
    {
     "ename": "AttributeError",
     "evalue": "'module' object has no attribute 'graphviz_layout'",
     "output_type": "error",
     "traceback": [
      "\u001b[0;31m\u001b[0m",
      "\u001b[0;31mAttributeError\u001b[0mTraceback (most recent call last)",
      "\u001b[0;32m<ipython-input-28-2014314779a4>\u001b[0m in \u001b[0;36m<module>\u001b[0;34m()\u001b[0m\n\u001b[0;32m----> 1\u001b[0;31m \u001b[0mnx\u001b[0m\u001b[0;34m.\u001b[0m\u001b[0mdraw\u001b[0m\u001b[0;34m(\u001b[0m\u001b[0mbranches\u001b[0m\u001b[0;34m,\u001b[0m \u001b[0mpos\u001b[0m\u001b[0;34m=\u001b[0m\u001b[0mnx\u001b[0m\u001b[0;34m.\u001b[0m\u001b[0mgraphviz_layout\u001b[0m\u001b[0;34m(\u001b[0m\u001b[0mbranches\u001b[0m\u001b[0;34m)\u001b[0m\u001b[0;34m)\u001b[0m\u001b[0;34m\u001b[0m\u001b[0m\n\u001b[0m",
      "\u001b[0;31mAttributeError\u001b[0m: 'module' object has no attribute 'graphviz_layout'"
     ]
    }
   ],
   "source": [
    "nx.draw(branches, pos=nx.graphviz_layout(branches))"
   ]
  },
  {
   "cell_type": "code",
   "execution_count": 13,
   "metadata": {
    "collapsed": true
   },
   "outputs": [],
   "source": [
    "%matplotlib inline"
   ]
  },
  {
   "cell_type": "code",
   "execution_count": null,
   "metadata": {
    "collapsed": true
   },
   "outputs": [],
   "source": []
  }
 ],
 "metadata": {
  "kernelspec": {
   "display_name": "Python 2",
   "language": "python",
   "name": "python2"
  },
  "language_info": {
   "codemirror_mode": {
    "name": "ipython",
    "version": 2
   },
   "file_extension": ".py",
   "mimetype": "text/x-python",
   "name": "python",
   "nbconvert_exporter": "python",
   "pygments_lexer": "ipython2",
   "version": "2.7.5"
  }
 },
 "nbformat": 4,
 "nbformat_minor": 2
}
